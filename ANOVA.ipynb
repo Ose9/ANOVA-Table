{
 "cells": [
  {
   "cell_type": "code",
   "execution_count": 19,
   "id": "5c601385",
   "metadata": {},
   "outputs": [
    {
     "name": "stdout",
     "output_type": "stream",
     "text": [
      "   Observation   A   B   C   D\n",
      "0            1   8  12  18  13\n",
      "1            2  10  11  12   9\n",
      "2            3  12   9  16  12\n",
      "3            4   8  14   6  16\n",
      "4            5   7   4   8  15\n"
     ]
    }
   ],
   "source": [
    "\n",
    "import pandas as pd\n",
    "#input the data here, add different samples and values \n",
    "data = {'Observation': [1,2,3,4,5],'A': [8,10,12,8,7],'B':[12,11,9,14,4],'C':[18,12,16,6,8],'D':[13,9,12,16,15]}\n",
    "\n",
    "df = pd.DataFrame(data)\n",
    "\n",
    "print(df)\n",
    "\n",
    "k = len(df.axes[0])-1"
   ]
  },
  {
   "cell_type": "code",
   "execution_count": 20,
   "id": "ad77af16",
   "metadata": {},
   "outputs": [
    {
     "name": "stdout",
     "output_type": "stream",
     "text": [
      "  Observation    A    B    C    D\n",
      "0           1   64  144  324  169\n",
      "1           4  100  121  144   81\n",
      "2           9  144   81  256  144\n",
      "3          16   64  196   36  256\n",
      "4          25   49   16   64  225\n",
      "5     total^2  421  558  824  875\n"
     ]
    }
   ],
   "source": [
    "df_square = df.pow(2,1)\n",
    "total2 = {'Observation': 'total^2', 'A': df_square['A'].sum(),'B': \n",
    "          df_square['B'].sum(),'C': df_square['C'].sum(),'D': df_square['D'].sum()}\n",
    "df_square = df_square.append(total2, ignore_index = True)\n",
    "print(df_square)\n",
    "\n"
   ]
  },
  {
   "cell_type": "code",
   "execution_count": 21,
   "id": "93730eb4",
   "metadata": {},
   "outputs": [
    {
     "name": "stdout",
     "output_type": "stream",
     "text": [
      "2678\n"
     ]
    }
   ],
   "source": [
    "sigma_ss = df_square.iat[5,1]+ df_square.iat[5,2] +df_square.iat[5,3] +df_square.iat[5,4]\n",
    "print(sigma_ss)"
   ]
  },
  {
   "cell_type": "code",
   "execution_count": 22,
   "id": "2ed3f63b",
   "metadata": {},
   "outputs": [],
   "source": [
    "df_sum=df\n",
    "stddev = {'Observation': 'stddev', 'A': (sum((df['A']-((df['A'].sum())/5))**2)/4)**(1/2),\n",
    "          'B': (sum((df['B']-((df['B'].sum())/5))**2)/4)**(1/2),\n",
    "        'C': (sum((df['C']-((df['C'].sum())/5))**2)/4)**(1/2),\n",
    "          'D': (sum((df['D']-((df['D'].sum())/5))**2)/4)**(1/2)}\n",
    "df_sum = df_sum.append(stddev, ignore_index = True)\n",
    "\n"
   ]
  },
  {
   "cell_type": "code",
   "execution_count": 23,
   "id": "846ac58b",
   "metadata": {},
   "outputs": [],
   "source": [
    "mean = {'Observation': 'mean', 'A': (df['A'].sum())/5,'B': (df['B'].sum())/5,'C': (df['C'].sum())/5,'D': (df['D'].sum())/5}\n",
    "df_sum = df_sum.append(mean, ignore_index = True)\n",
    "\n"
   ]
  },
  {
   "cell_type": "code",
   "execution_count": 25,
   "id": "1c11427f",
   "metadata": {},
   "outputs": [],
   "source": [
    "total1 = {'Observation': 'total', 'A': df['A'].sum(),'B': df['B'].sum(),'C': df['C'].sum(),'D': df['D'].sum()}\n",
    "df_sum = df_sum.append(total1, ignore_index = True)\n"
   ]
  },
  {
   "cell_type": "code",
   "execution_count": 27,
   "id": "ec9aa551",
   "metadata": {},
   "outputs": [
    {
     "name": "stdout",
     "output_type": "stream",
     "text": [
      "  Observation     A          B         C          D\n",
      "0           1   8.0  12.000000  18.00000  13.000000\n",
      "1           2  10.0  11.000000  12.00000   9.000000\n",
      "2           3  12.0   9.000000  16.00000  12.000000\n",
      "3           4   8.0  14.000000   6.00000  16.000000\n",
      "4           5   7.0   4.000000   8.00000  15.000000\n",
      "5      stddev   2.0   3.807887   5.09902   2.738613\n",
      "6        mean   9.0  10.000000  12.00000  13.000000\n",
      "7       total  45.0  50.000000  60.00000  65.000000\n"
     ]
    }
   ],
   "source": [
    "print(df_sum)"
   ]
  },
  {
   "cell_type": "code",
   "execution_count": 28,
   "id": "ec3b1f75",
   "metadata": {},
   "outputs": [
    {
     "name": "stdout",
     "output_type": "stream",
     "text": [
      "220.0\n",
      "2470.0\n"
     ]
    }
   ],
   "source": [
    "#df_S= df_S.drop([df_S.index[5]])\n",
    "\n",
    "sigma_x = (df_sum.iat[7,1]+df_sum.iat[7,2]+df_sum.iat[7,3]+df_sum.iat[7,4])\n",
    "print(sigma_x)\n",
    "\n",
    "sigma_tt =(df_sum.iat[7,1]**2 /len(df_sum.axes[1])+df_sum.iat[7,2]**2 /len(df_sum.axes[1])\n",
    "           +df_sum.iat[7,3]**2 /len(df_sum.axes[1])+df_sum.iat[7,4]**2 /len(df_sum.axes[1]))\n",
    "\n",
    "print(sigma_tt)\n"
   ]
  },
  {
   "cell_type": "code",
   "execution_count": 30,
   "id": "7fa626df",
   "metadata": {},
   "outputs": [
    {
     "name": "stdout",
     "output_type": "stream",
     "text": [
      "Overall mean =  11.0 \n",
      "sigma x*x / n =  2420.0\n"
     ]
    }
   ],
   "source": [
    "n = (len(df.axes[1])*(len(df.axes[0])-1))\n",
    "OverallMean = (sigma_x)/n\n",
    "\n",
    "sigma_xx = (sigma_x)**2 / n\n",
    "\n",
    "print(\"Overall mean = \",OverallMean, \"\\nsigma x*x / n = \",sigma_xx)\n",
    "#sigma_tt = sum((df_S.index[5])**2)\n",
    "#Step-1 : sum of squares between samples"
   ]
  },
  {
   "cell_type": "code",
   "execution_count": 31,
   "id": "6052e70a",
   "metadata": {},
   "outputs": [
    {
     "name": "stdout",
     "output_type": "stream",
     "text": [
      "220.0 2420.0 2470.0 2678\n"
     ]
    }
   ],
   "source": [
    "one = sigma_x\n",
    "two = sigma_xx\n",
    "three = sigma_tt\n",
    "four = sigma_ss\n",
    "\n",
    "print(one, two , three, four)\n",
    "\n"
   ]
  },
  {
   "cell_type": "code",
   "execution_count": 33,
   "id": "bd029723",
   "metadata": {},
   "outputs": [],
   "source": [
    "#1. SUM OF SQUARES BET SAMPLES\n",
    "#SSB = three - two \n",
    "ssb = three - two\n",
    "\n",
    "#2. sum of squares within samples\n",
    "ssw = four - three\n",
    "\n",
    "#3. Total sum of squares\n",
    "sst = ssb + ssw\n",
    "\n",
    "#4. variance between samples\n",
    "msb = ssb/(k-1)\n",
    "\n",
    "#5. variance within samples\n",
    "msw = ssw/(n-k)"
   ]
  },
  {
   "cell_type": "code",
   "execution_count": 34,
   "id": "3b2af71f",
   "metadata": {},
   "outputs": [
    {
     "name": "stdout",
     "output_type": "stream",
     "text": [
      "50.0 208.0 258.0 16.666666666666668 13.0\n"
     ]
    }
   ],
   "source": [
    "print(ssb,ssw,sst,msb,msw)\n"
   ]
  },
  {
   "cell_type": "code",
   "execution_count": 35,
   "id": "b1d77f01",
   "metadata": {},
   "outputs": [],
   "source": [
    "#6. test statistic F for one way ANOVA test\n",
    "F = msb/msw"
   ]
  },
  {
   "cell_type": "code",
   "execution_count": 36,
   "id": "c4d6110b",
   "metadata": {},
   "outputs": [],
   "source": [
    "#degree of freedom between(b) and within(w) and total(t)\n",
    "degree_b = k - 1\n",
    "degree_w = n - k\n",
    "degree_t = n-1"
   ]
  },
  {
   "cell_type": "code",
   "execution_count": 37,
   "id": "8cce3f26",
   "metadata": {},
   "outputs": [],
   "source": [
    "data1 = {'Source of Variation': [\"Between Samples\",\"Within Samples\",\"Total\"],'Sum of Squares SS': [ssb,ssw,sst],'Degrees of Freedom':[degree_b,degree_w,degree_t],'Mean Squares':[msb,msw,'-'],'F':[F,'-','-']}\n"
   ]
  },
  {
   "cell_type": "code",
   "execution_count": 38,
   "id": "6795ee86",
   "metadata": {
    "scrolled": true
   },
   "outputs": [
    {
     "name": "stdout",
     "output_type": "stream",
     "text": [
      "  Source of Variation  Sum of Squares SS  Degrees of Freedom Mean Squares  \\\n",
      "0     Between Samples               50.0                   3    16.666667   \n",
      "1      Within Samples              208.0                  16         13.0   \n",
      "2               Total              258.0                  19            -   \n",
      "\n",
      "          F  \n",
      "0  1.282051  \n",
      "1         -  \n",
      "2         -  \n"
     ]
    }
   ],
   "source": [
    "anova = pd.DataFrame(data1)\n",
    "print(anova)"
   ]
  },
  {
   "cell_type": "code",
   "execution_count": null,
   "id": "010a0596",
   "metadata": {},
   "outputs": [],
   "source": []
  }
 ],
 "metadata": {
  "kernelspec": {
   "display_name": "Python 3",
   "language": "python",
   "name": "python3"
  },
  "language_info": {
   "codemirror_mode": {
    "name": "ipython",
    "version": 3
   },
   "file_extension": ".py",
   "mimetype": "text/x-python",
   "name": "python",
   "nbconvert_exporter": "python",
   "pygments_lexer": "ipython3",
   "version": "3.8.8"
  }
 },
 "nbformat": 4,
 "nbformat_minor": 5
}
